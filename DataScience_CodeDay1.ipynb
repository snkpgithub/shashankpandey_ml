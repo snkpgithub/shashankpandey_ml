{
 "cells": [
  {
   "cell_type": "code",
   "execution_count": 13,
   "metadata": {},
   "outputs": [
    {
     "name": "stdout",
     "output_type": "stream",
     "text": [
      "Array [5. 6. 7.]\n",
      "2DArray [[ 5.  6.  7.  8.]\n",
      " [ 9. 10.  7.  6.]]\n",
      "Dimensionality 2\n",
      "Dimensionality 1\n",
      "shape= (3,)\n",
      "shape= 2\n",
      "Datatype2= float64\n",
      "Datatype1= float32\n",
      "8\n",
      "3\n",
      "4\n",
      "12\n",
      "8\n",
      "64\n",
      "[[[ 5  6  7  8]\n",
      "  [ 9 10  7  6]]\n",
      "\n",
      " [[ 1  2  3  4]\n",
      "  [ 4  9  5  2]]]\n",
      "3darray size= 16\n",
      "[7. 8.]\n",
      "[5. 6. 7. 8.]\n",
      "[ 6. 10.]\n",
      "[7. 7.]\n"
     ]
    }
   ],
   "source": [
    "import numpy as NP\n",
    "array=NP.array([5,6,7], dtype='float32')\n",
    "print(\"Array\",array)\n",
    "twoDarray=NP.array([[5,6,7,8],[9,10,7,6]],dtype='float64')\n",
    "print(\"2DArray\",twoDarray)\n",
    "#get dimension of arrays\n",
    "print('Dimensionality',twoDarray.ndim)\n",
    "print('Dimensionality',array.ndim)\n",
    "print('shape=',array.shape)\n",
    "print('shape=',twoDarray.ndim)\n",
    "print('Datatype2=',twoDarray.dtype)\n",
    "print('Datatype1=',array.dtype)\n",
    "a=twoDarray.size\n",
    "b=array.size\n",
    "print(a)\n",
    "print(b)\n",
    "c=array.itemsize\n",
    "c1=array.nbytes\n",
    "print(c)\n",
    "print(c1)\n",
    "d=twoDarray.itemsize\n",
    "d1=twoDarray.nbytes\n",
    "print(d)\n",
    "print(d1)\n",
    "threeDarray=NP.array([[[5,6,7,8],[9,10,7,6]],[[1,2,3,4],[4,9,5,2]]],dtype='int16')\n",
    "print(threeDarray)\n",
    "print('3darray size=',threeDarray.size)\n",
    "threeDarray.shape\n",
    "#accessing row column, elemnets\n",
    "print(twoDarray[0,2:4])\n",
    "print(twoDarray[0,:])\n",
    "print(twoDarray[:,1])\n",
    "print(twoDarray[:,2])"
   ]
  },
  {
   "cell_type": "markdown",
   "metadata": {},
   "source": [
    "### Accessing Specific Elements Rows or Columns"
   ]
  },
  {
   "cell_type": "code",
   "execution_count": 14,
   "metadata": {},
   "outputs": [
    {
     "name": "stdout",
     "output_type": "stream",
     "text": [
      "[[[ 5  6  7  8]\n",
      "  [ 9 10  7  6]]\n",
      "\n",
      " [[ 1  2  3  4]\n",
      "  [ 4  9  5  2]]]\n",
      "6\n",
      "2\n",
      "[[1 2 3 4 5 6 7 8 9 0]\n",
      " [0 9 8 7 6 5 4 3 2 1]\n",
      " [4 5 6 7 8 9 0 1 2 3]\n",
      " [3 2 1 0 9 8 7 6 5 4]]\n"
     ]
    }
   ],
   "source": [
    "import numpy as NP\n",
    "threeDarray=NP.array([[[5,6,7,8],[9,10,7,6]],[[1,2,3,4],[4,9,5,2]]],dtype='int16')\n",
    "print(threeDarray)\n",
    "print(threeDarray[0,1,3]) #for 6of 5678 page,row,column\n",
    "print(threeDarray[1,0,1]) #2 of 1234\n",
    "testmat=NP.array([[1,2,3,4,5,6,7,8,9,0],[0,9,8,7,6,5,4,3,2,1],[4,5,6,7,8,9,0,1,2,3],[3,2,1,0,9,8,7,6,5,4]])\n",
    "print(testmat)\n",
    "testmat[0:2, ]"
   ]
  },
  {
   "cell_type": "code",
   "execution_count": null,
   "metadata": {},
   "outputs": [],
   "source": []
  }
 ],
 "metadata": {
  "kernelspec": {
   "display_name": "Python 3",
   "language": "python",
   "name": "python3"
  },
  "language_info": {
   "codemirror_mode": {
    "name": "ipython",
    "version": 3
   },
   "file_extension": ".py",
   "mimetype": "text/x-python",
   "name": "python",
   "nbconvert_exporter": "python",
   "pygments_lexer": "ipython3",
   "version": "3.8.5"
  }
 },
 "nbformat": 4,
 "nbformat_minor": 4
}
